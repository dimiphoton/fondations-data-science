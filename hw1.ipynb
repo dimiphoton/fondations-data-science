{
 "cells": [
  {
   "cell_type": "markdown",
   "id": "6af7279b-3f2e-4968-8a75-5995fa5486b4",
   "metadata": {},
   "source": [
    "# `hw1`: Explore the Argo data"
   ]
  },
  {
   "cell_type": "code",
   "execution_count": null,
   "id": "c8ed6972-d24e-4fe1-aee9-a5f2192a968c",
   "metadata": {},
   "outputs": [],
   "source": [
    "# Fill in this cell with your personal details:\n",
    "# - Name: xxx\n",
    "# - Student ID: xxx\n",
    "# - Email: xxx"
   ]
  },
  {
   "cell_type": "markdown",
   "id": "5c741377-8279-4616-8b48-8c308ef1dd01",
   "metadata": {},
   "source": [
    "In this homework, you will have to fetch, manipulate and visualize the Argo data. You will explore this dataset using numpy, pandas and matplotlib.\n",
    "\n",
    "Deadline: **Monday, October 31**. \n",
    "- Submit your completed notebook on your personal Github repository created when accepting the assignment. \n",
    "- All cells must be executable and their outputs should not be erased before submission.\n",
    "- Homeworks are carried out *alone*."
   ]
  },
  {
   "cell_type": "markdown",
   "id": "62d6ebc2-71bb-4cf4-abbd-e11105615511",
   "metadata": {},
   "source": [
    "# Argo: a window into the ocean"
   ]
  },
  {
   "cell_type": "markdown",
   "id": "af9b224b-6996-4a4f-8ba5-8593fe89c98c",
   "metadata": {},
   "source": [
    "(Excerpt from [`argopy`](https://argopy.readthedocs.io/en/latest/what_is_argo.html).)\n",
    "\n",
    "The ocean is a key component of the Earth climate system. It thus needs a continuous real-time monitoring to help scientists better understand its dynamic and predict its evolution. All around the world, oceanographers have managed to join their efforts and set up a Global Ocean Observing System among which Argo is a key component.\n",
    "\n",
    "Argo is a global network of nearly 4000 autonomous probes measuring pressure, temperature and salinity from the surface to 2000m depth every 10 days. The localisation of these probes is nearly random between the 60th parallels. All probes data are collected by satellite in real-time, processed by several data centers and finally merged in a single dataset (collecting more than 2 millions of vertical profiles data).\n",
    "\n",
    "The Argo array reached its full global coverage (of 1 profile per month and per 3x3 degree horizontal area) in 2007, and continuously pursues its evolution to fulfill new scientific requirements (Roemmich et al, 2019). It now extents to higher latitudes and some of the floats are able to profile down to 4000m and 6000m. New floats are also equipped with biogeochemical sensors, measuring oxygen and chlorophyll for instance. Argo is thus providing a deluge of in situ data: more than 400 profiles per day.\n",
    "\n",
    "Each Argo probe is an autonomous, free drifting, profiling float, i.e. a probe that can’t control its trajectory but is able to control its buoyancy and thus to move up and down the water column as it wishes. Argo floats continuously operate the same program, or cycle, illustrated in the figure below. After 9 to 10 days of free drift at a parking depth of about 1000m, a typical Argo float dives down to 2000m and then shoals back to the surface while measuring pressure, temperature and salinity. Once it reaches the surface, the float sends by satellite its measurements to a data center where they are processed in real time and made freely available on the web in less than 24h00.\n",
    "\n",
    "<img src=\"https://argo.ucsd.edu/wp-content/uploads/sites/361/2020/06/float_cycle_1.png\" width=\"50%\" />"
   ]
  },
  {
   "cell_type": "code",
   "execution_count": 1,
   "id": "8d470bfa-594d-4864-882d-c674a1b461af",
   "metadata": {},
   "outputs": [
    {
     "data": {
      "image/jpeg": "[encoded data removed]",
      "text/html": [
       "\n",
       "        <iframe\n",
       "            width=\"400\"\n",
       "            height=\"300\"\n",
       "            src=\"https://www.youtube.com/embed/YkctZlQgU0g\"\n",
       "            frameborder=\"0\"\n",
       "            allowfullscreen\n",
       "            \n",
       "        ></iframe>\n",
       "        "
      ],
      "text/plain": [
       "<IPython.lib.display.YouTubeVideo at 0x7fe81e6a9270>"
      ]
     },
     "execution_count": 1,
     "metadata": {},
     "output_type": "execute_result"
    }
   ],
   "source": [
    "from IPython.display import YouTubeVideo\n",
    "YouTubeVideo(\"YkctZlQgU0g\")"
   ]
  },
  {
   "cell_type": "markdown",
   "id": "e85d685b-331e-46a8-978f-f35e962acfa6",
   "metadata": {},
   "source": [
    "# Getting started"
   ]
  },
  {
   "cell_type": "markdown",
   "id": "f2b6f23e-5d22-4415-9aa9-36b1e38bf430",
   "metadata": {},
   "source": [
    "To get started, make sure you have numpy, pandas, matplotlib installed in your environment."
   ]
  },
  {
   "cell_type": "code",
   "execution_count": null,
   "id": "08260f7e-9c6a-4e1a-8469-7cba050e60fc",
   "metadata": {},
   "outputs": [],
   "source": [
    "import numpy as np\n",
    "import pandas as pd\n",
    "import matplotlib.pyplot as plt"
   ]
  },
  {
   "cell_type": "markdown",
   "id": "43ca8582-650b-4689-88fb-970eaa5f9c65",
   "metadata": {},
   "source": [
    "We will make use of `argopy` to fetch the Argo data, which can be installed using `pip install argopy`."
   ]
  },
  {
   "cell_type": "code",
   "execution_count": 1,
   "id": "e3648075-c42a-49b1-87c2-bd1644786cdc",
   "metadata": {},
   "outputs": [
    {
     "ename": "ModuleNotFoundError",
     "evalue": "No module named 'argopy'",
     "output_type": "error",
     "traceback": [
      "\u001b[0;31m---------------------------------------------------------------------------\u001b[0m",
      "\u001b[0;31mModuleNotFoundError\u001b[0m                       Traceback (most recent call last)",
      "\u001b[0;32m/tmp/ipykernel_27838/1872433035.py\u001b[0m in \u001b[0;36m<module>\u001b[0;34m\u001b[0m\n\u001b[0;32m----> 1\u001b[0;31m \u001b[0;32mimport\u001b[0m \u001b[0margopy\u001b[0m\u001b[0;34m\u001b[0m\u001b[0;34m\u001b[0m\u001b[0m\n\u001b[0m",
      "\u001b[0;31mModuleNotFoundError\u001b[0m: No module named 'argopy'"
     ]
    }
   ],
   "source": [
    "import argopy  "
   ]
  },
  {
   "cell_type": "markdown",
   "id": "e8df26f1-f86e-48f7-bfc3-5d487f5a1617",
   "metadata": {},
   "source": [
    "Before diving further, take some time to explore the Argo data using the [Euro-Argo fleet monitoring tool](https://fleetmonitoring.euro-argo.eu/dashboard). If needed, the dashboard can be started directly from Jupyter:"
   ]
  },
  {
   "cell_type": "code",
   "execution_count": null,
   "id": "268e73b8-90d7-401a-ae0d-e3d0c40fd149",
   "metadata": {},
   "outputs": [],
   "source": [
    "argopy.dashboard()"
   ]
  },
  {
   "cell_type": "markdown",
   "id": "ebafefdc-19b5-46da-b611-cee520290a01",
   "metadata": {},
   "source": [
    "The API to fetch the Argo data is described below, but helpful additional resources include:\n",
    "- [the argopy documentation](https://argopy.readthedocs.io/en/latest/index.html)\n",
    "- [the Argo project](https://argo.ucsd.edu/)"
   ]
  },
  {
   "cell_type": "markdown",
   "id": "68db03f1-da47-4613-9942-3f14642c369a",
   "metadata": {},
   "source": [
    "# Loading Argo data"
   ]
  },
  {
   "cell_type": "code",
   "execution_count": null,
   "id": "c1c0738b-9294-4a72-9efc-844930b705ce",
   "metadata": {},
   "outputs": [],
   "source": [
    "# Fetching data for one or more floats\n",
    "from argopy import DataFetcher as ArgoDataFetcher\n",
    "argo_loader = ArgoDataFetcher()\n",
    "\n",
    "floats = argo_loader.float([6902746, 6902755])  # Pass a list of WMO float identifiers\n",
    "floats = floats.load()      # download the data\n",
    "df = floats.to_dataframe()  # convert to a pandas dataframe"
   ]
  },
  {
   "cell_type": "code",
   "execution_count": null,
   "id": "6732a794-1913-45b5-b441-ef131e7ebf45",
   "metadata": {},
   "outputs": [],
   "source": [
    "df.head(3)"
   ]
  },
  {
   "cell_type": "code",
   "execution_count": null,
   "id": "6bdaa438-3b51-4ec6-8e17-a2dba0107cfa",
   "metadata": {},
   "outputs": [],
   "source": [
    "# A profile is defined by a (WMO id, cycle number) pair\n",
    "# These are respectively defined in PLATFORM_NUMBER and CYCLE_NUMBER\n",
    "profile = df.query(\"PLATFORM_NUMBER == 6902746 and CYCLE_NUMBER == 5\")\n",
    "profile.head(3)"
   ]
  },
  {
   "cell_type": "code",
   "execution_count": null,
   "id": "72bb49e0-b099-44f9-93c2-e3c355cf46e2",
   "metadata": {},
   "outputs": [],
   "source": [
    "# `profile()` provides a shortcut for loading one or more profiles \n",
    "profile = argo_loader.profile(6902746, [5]).load().to_dataframe()\n",
    "profile.head(3)"
   ]
  },
  {
   "cell_type": "code",
   "execution_count": null,
   "id": "ceb8b147-59c9-41cf-9a7c-8c88d2a21267",
   "metadata": {},
   "outputs": [],
   "source": [
    "# `region()` loads float data for a space/time domain\n",
    "df = argo_loader.region([-60, -55, 40., 45., 0., 10., '2007-08-01', '2007-09-01']).load().to_dataframe()\n",
    "df.head(3)"
   ]
  },
  {
   "cell_type": "code",
   "execution_count": null,
   "id": "3312c6cc-7c94-47a8-8e82-f2e87c15e135",
   "metadata": {},
   "outputs": [],
   "source": [
    "# Argo metadata can accessed in the same way\n",
    "from argopy import IndexFetcher as ArgoIndexFetcher\n",
    "argo_index = ArgoIndexFetcher()\n",
    "\n",
    "idx = argo_index.float([6902746, 6902755])  # Pass a list of WMO float identifiers\n",
    "idx = idx.load()\n",
    "df = idx.to_dataframe()"
   ]
  },
  {
   "cell_type": "code",
   "execution_count": null,
   "id": "e8825050-8218-47b2-b4a6-228bf7671968",
   "metadata": {},
   "outputs": [],
   "source": [
    "df.head(3)"
   ]
  },
  {
   "cell_type": "code",
   "execution_count": null,
   "id": "b01568d4-9259-4fc1-bcdc-dcd4238a13a0",
   "metadata": {},
   "outputs": [],
   "source": [
    "# ... or request metadata for a space/time domain\n",
    "df = argo_index.region([-60, -55, 40., 45., '2007-08-01', '2007-09-01']).load().to_dataframe()\n",
    "df.head(3)"
   ]
  },
  {
   "cell_type": "markdown",
   "id": "6449c654-877d-4a1f-9f7e-d417e0dc7b2b",
   "metadata": {},
   "source": [
    "# Exercices\n",
    "\n",
    "- Solve the exercises below by making the best use of the API offered in numpy, pandas or matplotlib. \n",
    "- For plots, you are free to use either matplotlib and pandas' built-in plotting functions.\n",
    "- Follow the data visualization principles as best as possible to make your plots effective and readable.\n",
    "- Feel free to add comments if necessary."
   ]
  },
  {
   "cell_type": "markdown",
   "id": "12aaefeb-d2a7-4ce4-bcc2-f921471093dc",
   "metadata": {},
   "source": [
    "## Individual float data"
   ]
  },
  {
   "cell_type": "markdown",
   "id": "4a42e129-7980-42ea-9031-a910993afe33",
   "metadata": {},
   "source": [
    "<div class=\"alert alert-success\">\n",
    "    \n",
    "**Exercise**. Plot the joint temperature-pressure, salinity-pressure, salinity-temperature measurements collected along the `(PLATFORM_NUMBER=6900583, CYCLE_NUMBER=100)` profile.\n",
    "    \n",
    "</div>"
   ]
  },
  {
   "cell_type": "code",
   "execution_count": null,
   "id": "50a0dfbe-f997-432b-8d2d-651ea82fb586",
   "metadata": {},
   "outputs": [],
   "source": []
  },
  {
   "cell_type": "markdown",
   "id": "97a2f93d-6fda-4942-b569-5e84a85a057b",
   "metadata": {},
   "source": [
    "<div class=\"alert alert-success\">\n",
    "    \n",
    "**Exercise**. Plot histograms of the temperature and salinity measurements collected along the same profile.\n",
    "    \n",
    "</div>"
   ]
  },
  {
   "cell_type": "code",
   "execution_count": null,
   "id": "80f4d3b8-501c-4c2d-a2be-3231e81f16b5",
   "metadata": {},
   "outputs": [],
   "source": []
  },
  {
   "cell_type": "markdown",
   "id": "e14f390c-dcdc-481b-9d77-dd06e71af14e",
   "metadata": {},
   "source": [
    "<div class=\"alert alert-success\">\n",
    "    \n",
    "**Exercise**. On a single figure, plot as a function of time all temperature-pressure measurements of `6900583` since its launch.\n",
    "    \n",
    "</div>"
   ]
  },
  {
   "cell_type": "code",
   "execution_count": null,
   "id": "e281780e-b76a-41d8-93ce-5b772a275f5a",
   "metadata": {},
   "outputs": [],
   "source": []
  },
  {
   "cell_type": "markdown",
   "id": "615e853d-81e6-4fe6-84f5-3aca7475436b",
   "metadata": {},
   "source": [
    "<div class=\"alert alert-success\">\n",
    "    \n",
    "**Exercise**. From the Argo metadata, retrieve and plot the trajectory of float `6900583`.\n",
    "    \n",
    "</div>"
   ]
  },
  {
   "cell_type": "code",
   "execution_count": null,
   "id": "73e27a0a-b7cb-4a4f-8d76-d73ab3b010d8",
   "metadata": {},
   "outputs": [],
   "source": []
  },
  {
   "cell_type": "markdown",
   "id": "46e076e5-ae4c-4432-9709-d1b1e2037dd4",
   "metadata": {},
   "source": [
    "## Regional float data\n",
    "\n",
    "<div class=\"alert alert-warning\">\n",
    "    \n",
    "**Tips**. The data (or metadata) required for the exercises below can be quite long to download and prepare. We recommend to download the data once and then save it on disk (e.g., using one of Pandas' export functions).\n",
    "    \n",
    "</div>"
   ]
  },
  {
   "cell_type": "code",
   "execution_count": null,
   "id": "ab69074d-0721-42f3-a7e0-6046fe601307",
   "metadata": {},
   "outputs": [],
   "source": []
  },
  {
   "cell_type": "markdown",
   "id": "9bf832d1-d717-4861-9d85-a6164b14be91",
   "metadata": {},
   "source": [
    "<div class=\"alert alert-success\">\n",
    "    \n",
    "**Exercise**. Plot the temperature-pressure, salinity-pressure, temperature-salinity measurements of profile data collected between -50 and 0° of longitude and between 45 and 50° of latitude for 2021.\n",
    "    \n",
    "Consider how to best represent the variability of the measurements.\n",
    "    \n",
    "</div>"
   ]
  },
  {
   "cell_type": "code",
   "execution_count": null,
   "id": "2f5f8b86-095d-46c0-93a4-c224569080f8",
   "metadata": {},
   "outputs": [],
   "source": []
  },
  {
   "cell_type": "markdown",
   "id": "60179fa6-a5e6-40c0-a204-5c7060062e54",
   "metadata": {},
   "source": [
    "<div class=\"alert alert-success\">\n",
    "    \n",
    "**Exercise**. For the floats passing by the region between -50 and 0° of longitude and between 45 and 50° of latitude between 2000 and 2022, compute and show the lengths of their trajectories. (Note: use the metadata.)\n",
    "\n",
    "</div>"
   ]
  },
  {
   "cell_type": "code",
   "execution_count": null,
   "id": "f52fb4cf-ae3c-492c-a2af-c6f507176843",
   "metadata": {},
   "outputs": [],
   "source": []
  },
  {
   "cell_type": "markdown",
   "id": "c48759b9-4dce-40a9-8d1b-de9c01b55676",
   "metadata": {},
   "source": [
    "<div class=\"alert alert-success\">\n",
    "    \n",
    "**Exercise**. Using the yearly January data from 2000 to 2022 collected between -50 and 0° of longitude and between 45 and 50° of latitude, show the evolution of the temperature and salinity at sea level.\n",
    "    \n",
    "</div>"
   ]
  },
  {
   "cell_type": "code",
   "execution_count": null,
   "id": "15b5330a-221f-4b65-8e78-d1f73151e6c2",
   "metadata": {},
   "outputs": [],
   "source": []
  },
  {
   "cell_type": "markdown",
   "id": "a751b990-3347-450e-bf2b-32e3918a1b0b",
   "metadata": {},
   "source": [
    "<div class=\"alert alert-success\">\n",
    "    \n",
    "**Exercise**. Using the yearly January data from 2000 to 2022 collected between -50 and 0° of longitude and between 45 and 50° of latitude, show and compare the evolution of the temperature at pressure levels 0, 10, 500 and 1000.\n",
    "    \n",
    "</div>"
   ]
  },
  {
   "cell_type": "code",
   "execution_count": null,
   "id": "5499d5ee-2b57-429b-91ed-519fb93f8297",
   "metadata": {},
   "outputs": [],
   "source": []
  }
 ],
 "metadata": {
  "kernelspec": {
   "display_name": "Python 3.8.10 64-bit",
   "language": "python",
   "name": "python3"
  },
  "language_info": {
   "codemirror_mode": {
    "name": "ipython",
    "version": 3
   },
   "file_extension": ".py",
   "mimetype": "text/x-python",
   "name": "python",
   "nbconvert_exporter": "python",
   "pygments_lexer": "ipython3",
   "version": "3.8.10"
  },
  "vscode": {
   "interpreter": {
    "hash": "916dbcbb3f70747c44a77c7bcd40155683ae19c65e1c03b4aa3499c5328201f1"
   }
  }
 },
 "nbformat": 4,
 "nbformat_minor": 5
}
